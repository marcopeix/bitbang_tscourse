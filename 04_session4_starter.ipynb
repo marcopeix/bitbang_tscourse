{
 "cells": [
  {
   "cell_type": "code",
   "execution_count": null,
   "metadata": {},
   "outputs": [],
   "source": [
    "import os\n",
    "import warnings\n",
    "import numpy as np\n",
    "import pandas as pd\n",
    "import matplotlib.pyplot as plt\n",
    "\n",
    "from statsforecast import StatsForecast\n",
    "from statsforecast.arima import ARIMASummary\n",
    "from statsforecast.models import SeasonalNaive, AutoTBATS, MSTL, AutoMFLES, AutoTheta\n",
    "\n",
    "from utilsforecast.losses import *\n",
    "from utilsforecast.evaluation import evaluate\n",
    "\n",
    "warnings.filterwarnings(\"ignore\")\n",
    "os.environ[\"NIXTLA_ID_AS_COL\"] = \"true\"\n",
    "pd.set_option('display.precision', 3)"
   ]
  },
  {
   "cell_type": "code",
   "execution_count": null,
   "metadata": {},
   "outputs": [],
   "source": [
    "plt.rcParams['figure.figsize'] = (9,6)"
   ]
  },
  {
   "cell_type": "markdown",
   "metadata": {},
   "source": [
    "## Theta"
   ]
  },
  {
   "cell_type": "code",
   "execution_count": null,
   "metadata": {},
   "outputs": [],
   "source": [
    "url = \"https://raw.githubusercontent.com/marcopeix/AppliedTimeSeriesForecastingInPython/refs/heads/master/data/monthly-milk-production-pounds.csv\"\n",
    "df = pd.read_csv(url)\n",
    "df['Month'] = pd.to_datetime(df['Month']+'-01')+pd.offsets.MonthEnd(1)\n",
    "df['Month'] = df['Month'].dt.date\n",
    "df = df.rename(columns={\"Month\": \"Date\", \"Monthly milk production (pounds per cow)\": \"y\"})\n",
    "df.insert(0, 'unique_id', 1)\n",
    "\n",
    "df.head()"
   ]
  },
  {
   "cell_type": "code",
   "execution_count": null,
   "metadata": {},
   "outputs": [],
   "source": [
    "# Theta model\n",
    "\n",
    "sf = StatsForecast(models=[theta], freq='M')\n",
    "cv_df = sf.cross_validation(h=12, \n",
    "                            df=df, \n",
    "                            n_windows=5, \n",
    "                            step_size=12, \n",
    "                            time_col='Date')\n",
    "\n",
    "cv_df.head()"
   ]
  },
  {
   "cell_type": "code",
   "execution_count": null,
   "metadata": {},
   "outputs": [],
   "source": [
    "fig, ax = plt.subplots()\n",
    "\n",
    "ax.plot(df['Date'], df['y'])\n",
    "ax.plot(cv_df['Date'], cv_df['Theta'], label='Theta', ls='--', color='black')\n",
    "ax.set_xlabel('Date')\n",
    "ax.set_ylabel('Milk production (lbs/cow)')\n",
    "ax.set_title('Monthly milk production in Australia')\n",
    "ax.legend(loc='best')\n",
    "\n",
    "fig.autofmt_xdate()\n",
    "plt.tight_layout()"
   ]
  },
  {
   "cell_type": "code",
   "execution_count": null,
   "metadata": {},
   "outputs": [],
   "source": [
    "eval_df = cv_df.drop(['Date', 'cutoff'], axis=1)\n",
    "evaluation = evaluate(df=eval_df, metrics=[mae, smape])\n",
    "avg_evaluation = evaluation.drop(['unique_id'], axis=1).groupby('metric').mean().reset_index()\n",
    "avg_evaluation"
   ]
  },
  {
   "cell_type": "markdown",
   "metadata": {},
   "source": [
    "## TBATS"
   ]
  },
  {
   "cell_type": "code",
   "execution_count": null,
   "metadata": {},
   "outputs": [],
   "source": [
    "url = \"https://raw.githubusercontent.com/marcopeix/time-series-analysis/refs/heads/master/data/daily_traffic.csv\"\n",
    "\n",
    "df = pd.read_csv(url, parse_dates=[\"date_time\"])\n",
    "df.insert(0, 'unique_id', 1)\n",
    "df.head()"
   ]
  },
  {
   "cell_type": "code",
   "execution_count": null,
   "metadata": {},
   "outputs": [],
   "source": [
    "fig, ax = plt.subplots()\n",
    "\n",
    "ax.plot(df['date_time'], df['traffic_volume'])\n",
    "ax.set_xlabel('TIme')\n",
    "ax.set_ylabel('Traffic volume')\n",
    "ax.set_title('Daily traffic volume')\n",
    "\n",
    "fig.autofmt_xdate()\n",
    "plt.tight_layout()"
   ]
  },
  {
   "cell_type": "code",
   "execution_count": null,
   "metadata": {},
   "outputs": [],
   "source": [
    "h = 24\n",
    "\n",
    "seasonal_naive = SeasonalNaive(season_length=24, alias='naive')\n",
    "\n",
    "# TBATS model\n",
    "\n",
    "sf = StatsForecast(models=[seasonal_naive, tbats], freq='H')\n",
    "cv_df = sf.cross_validation(h=h, \n",
    "                            df=df, \n",
    "                            n_windows=10, \n",
    "                            step_size=h, \n",
    "                            time_col='date_time',\n",
    "                            target_col='traffic_volume')\n",
    "\n",
    "cv_df.head()"
   ]
  },
  {
   "cell_type": "code",
   "execution_count": null,
   "metadata": {},
   "outputs": [],
   "source": [
    "fig, ax = plt.subplots()\n",
    "\n",
    "ax.plot(df['date_time'], df['traffic_volume'])\n",
    "ax.plot(cv_df['date_time'], cv_df['TBATS'], ls='--', color='black', label='TBATS')\n",
    "ax.set_xlabel('TIme')\n",
    "ax.set_ylabel('Traffic volume')\n",
    "ax.set_title('Daily traffic volume')\n",
    "ax.legend()\n",
    "\n",
    "fig.autofmt_xdate()\n",
    "plt.tight_layout()"
   ]
  },
  {
   "cell_type": "code",
   "execution_count": null,
   "metadata": {},
   "outputs": [],
   "source": [
    "eval_df = cv_df.drop(['date_time', 'cutoff'], axis=1)\n",
    "evaluation = evaluate(df=eval_df, metrics=[mae, smape], target_col='traffic_volume')\n",
    "evaluation"
   ]
  },
  {
   "cell_type": "markdown",
   "metadata": {},
   "source": [
    "## MSTL"
   ]
  },
  {
   "cell_type": "code",
   "execution_count": null,
   "metadata": {},
   "outputs": [],
   "source": [
    "# MSTL model\n",
    "\n",
    "sf = StatsForecast(models=[mstl], freq='H')\n",
    "mstl_cv_df = sf.cross_validation(h=h, \n",
    "                            df=df, \n",
    "                            n_windows=10, \n",
    "                            step_size=h, \n",
    "                            time_col='date_time',\n",
    "                            target_col='traffic_volume')\n",
    "\n",
    "mstl_cv_df.head()"
   ]
  },
  {
   "cell_type": "code",
   "execution_count": null,
   "metadata": {},
   "outputs": [],
   "source": [
    "fig, ax = plt.subplots()\n",
    "\n",
    "ax.plot(df['date_time'], df['traffic_volume'])\n",
    "ax.plot(mstl_cv_df['date_time'], mstl_cv_df['MSTL'], ls='--', color='black', label='MSTL')\n",
    "ax.set_xlabel('TIme')\n",
    "ax.set_ylabel('Traffic volume')\n",
    "ax.set_title('Daily traffic volume')\n",
    "ax.legend()\n",
    "\n",
    "fig.autofmt_xdate()\n",
    "plt.tight_layout()"
   ]
  },
  {
   "cell_type": "code",
   "execution_count": null,
   "metadata": {},
   "outputs": [],
   "source": [
    "eval_df['MSTL'] = mstl_cv_df['MSTL'].values\n",
    "evaluation = evaluate(df=eval_df, metrics=[mae, smape], target_col='traffic_volume')\n",
    "evaluation"
   ]
  },
  {
   "cell_type": "markdown",
   "metadata": {},
   "source": [
    "## MFLES"
   ]
  },
  {
   "cell_type": "code",
   "execution_count": null,
   "metadata": {},
   "outputs": [],
   "source": [
    "# MFLES model\n",
    "\n",
    "sf = StatsForecast(models=[mfles], freq='H')\n",
    "mfles_cv_df = sf.cross_validation(h=h, \n",
    "                            df=df, \n",
    "                            n_windows=10, \n",
    "                            step_size=h, \n",
    "                            time_col='date_time',\n",
    "                            target_col='traffic_volume')\n",
    "\n",
    "mfles_cv_df.head()"
   ]
  },
  {
   "cell_type": "code",
   "execution_count": null,
   "metadata": {},
   "outputs": [],
   "source": [
    "fig, ax = plt.subplots()\n",
    "\n",
    "ax.plot(df['date_time'], df['traffic_volume'])\n",
    "ax.plot(mfles_cv_df['date_time'], mfles_cv_df['MFLES'], ls='--', color='black', label='MFLES')\n",
    "ax.set_xlabel('TIme')\n",
    "ax.set_ylabel('Traffic volume')\n",
    "ax.set_title('Daily traffic volume')\n",
    "ax.legend()\n",
    "\n",
    "fig.autofmt_xdate()\n",
    "plt.tight_layout()"
   ]
  },
  {
   "cell_type": "code",
   "execution_count": null,
   "metadata": {},
   "outputs": [],
   "source": [
    "eval_df['MFLES'] = mfles_cv_df['MFLES'].values\n",
    "evaluation = evaluate(df=eval_df, metrics=[mae, smape], target_col='traffic_volume')\n",
    "evaluation"
   ]
  },
  {
   "cell_type": "code",
   "execution_count": null,
   "metadata": {},
   "outputs": [],
   "source": []
  }
 ],
 "metadata": {
  "kernelspec": {
   "display_name": "bitbang-env",
   "language": "python",
   "name": "python3"
  },
  "language_info": {
   "codemirror_mode": {
    "name": "ipython",
    "version": 3
   },
   "file_extension": ".py",
   "mimetype": "text/x-python",
   "name": "python",
   "nbconvert_exporter": "python",
   "pygments_lexer": "ipython3",
   "version": "3.10.15"
  }
 },
 "nbformat": 4,
 "nbformat_minor": 2
}
