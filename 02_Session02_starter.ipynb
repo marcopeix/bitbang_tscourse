{
 "cells": [
  {
   "cell_type": "code",
   "execution_count": null,
   "metadata": {},
   "outputs": [],
   "source": [
    "import os\n",
    "import warnings\n",
    "import numpy as np\n",
    "import pandas as pd\n",
    "import matplotlib.pyplot as plt\n",
    "\n",
    "from statsmodels.tsa.arima_process import ArmaProcess\n",
    "from statsmodels.graphics.tsaplots import plot_acf, plot_pacf\n",
    "from statsmodels.tsa.stattools import adfuller\n",
    "\n",
    "from statsforecast import StatsForecast\n",
    "from statsforecast.models import ARIMA, AutoARIMA\n",
    "\n",
    "from utilsforecast.losses import *\n",
    "from utilsforecast.evaluation import evaluate\n",
    "\n",
    "warnings.filterwarnings(\"ignore\")\n",
    "os.environ[\"NIXTLA_ID_AS_COL\"] = \"true\"\n",
    "pd.set_option('display.precision', 3)"
   ]
  },
  {
   "cell_type": "code",
   "execution_count": null,
   "metadata": {},
   "outputs": [],
   "source": [
    "plt.rcParams['figure.figsize'] = (9,6)"
   ]
  },
  {
   "cell_type": "code",
   "execution_count": null,
   "metadata": {},
   "outputs": [],
   "source": [
    "url = \"https://raw.githubusercontent.com/marcopeix/TimeSeriesForecastingUsingFoundationModels/refs/heads/main/data/walmart_sales_small.csv\"\n",
    "\n",
    "df = pd.read_csv(url, parse_dates=[\"Date\"])\n",
    "df = df[['Store', 'Date', 'Weekly_Sales']]\n",
    "df.head()"
   ]
  },
  {
   "cell_type": "code",
   "execution_count": null,
   "metadata": {},
   "outputs": [],
   "source": [
    "fig, axes = plt.subplots(nrows=2, ncols=2, figsize=(12,9))\n",
    "\n",
    "for i, ax in enumerate(axes.flatten()):\n",
    "    plot_df = df[df['Store'] == i+1]\n",
    "\n",
    "    ax.plot(plot_df['Date'], plot_df['Weekly_Sales'])\n",
    "    ax.set_title(f'Store {i+1}')\n",
    "    ax.set_xlabel('Date')\n",
    "    ax.set_ylabel('Weekly Sales ($)')\n",
    "\n",
    "fig.autofmt_xdate()\n",
    "plt.tight_layout()"
   ]
  },
  {
   "cell_type": "markdown",
   "metadata": {},
   "source": [
    "# Moving average - MA(q)"
   ]
  },
  {
   "cell_type": "code",
   "execution_count": null,
   "metadata": {},
   "outputs": [],
   "source": []
  },
  {
   "cell_type": "code",
   "execution_count": null,
   "metadata": {},
   "outputs": [],
   "source": [
    "fig, ax = plt.subplots()\n",
    "\n",
    "ax.plot(ma1_process)\n",
    "ax.set_xlabel('Timesteps')\n",
    "ax.set_ylabel('Value')\n",
    "\n",
    "plt.title('Simulated MA(1) process')\n",
    "\n",
    "plt.tight_layout()"
   ]
  },
  {
   "cell_type": "code",
   "execution_count": null,
   "metadata": {},
   "outputs": [],
   "source": []
  },
  {
   "cell_type": "code",
   "execution_count": null,
   "metadata": {},
   "outputs": [],
   "source": []
  },
  {
   "cell_type": "markdown",
   "metadata": {},
   "source": [
    "## Forecasting with MA(q)"
   ]
  },
  {
   "cell_type": "code",
   "execution_count": null,
   "metadata": {},
   "outputs": [],
   "source": []
  },
  {
   "cell_type": "code",
   "execution_count": null,
   "metadata": {},
   "outputs": [],
   "source": []
  },
  {
   "cell_type": "code",
   "execution_count": null,
   "metadata": {},
   "outputs": [],
   "source": []
  },
  {
   "cell_type": "code",
   "execution_count": null,
   "metadata": {},
   "outputs": [],
   "source": [
    "fig, axes = plt.subplots(nrows=2, ncols=2, figsize=(12,9))\n",
    "\n",
    "for i, ax in enumerate(axes.flatten()):\n",
    "    plot_df = df[df['Store'] == i+1]\n",
    "    cv_plot_df = cv_df[cv_df['Store'] == i+1]\n",
    "\n",
    "    ax.plot(plot_df['Date'], plot_df['Weekly_Sales'])\n",
    "    ax.plot(cv_plot_df['Date'], cv_plot_df['MA'], label='MA(q)')\n",
    "    ax.fill_between(cv_plot_df['Date'], cv_plot_df['MA-lo-80'], cv_plot_df['MA-hi-80'], color='green', alpha=0.2)\n",
    "    ax.legend()\n",
    "    ax.set_title(f'Store {i+1}')\n",
    "    ax.set_xlabel('Date')\n",
    "    ax.set_ylabel('Weekly Sales ($)')\n",
    "\n",
    "fig.autofmt_xdate()\n",
    "plt.tight_layout()"
   ]
  },
  {
   "cell_type": "code",
   "execution_count": null,
   "metadata": {},
   "outputs": [],
   "source": []
  },
  {
   "cell_type": "code",
   "execution_count": null,
   "metadata": {},
   "outputs": [],
   "source": []
  },
  {
   "cell_type": "markdown",
   "metadata": {},
   "source": [
    "# Autoregressive model - AR(p)"
   ]
  },
  {
   "cell_type": "code",
   "execution_count": null,
   "metadata": {},
   "outputs": [],
   "source": []
  },
  {
   "cell_type": "code",
   "execution_count": null,
   "metadata": {},
   "outputs": [],
   "source": [
    "plot_acf(AR2_process, lags=20);\n",
    "\n",
    "plt.ylim(-0.5, 1.5)\n",
    "plt.tight_layout()"
   ]
  },
  {
   "cell_type": "code",
   "execution_count": null,
   "metadata": {},
   "outputs": [],
   "source": []
  },
  {
   "cell_type": "code",
   "execution_count": null,
   "metadata": {},
   "outputs": [],
   "source": []
  },
  {
   "cell_type": "markdown",
   "metadata": {},
   "source": [
    "## Forecasting with AR(p)"
   ]
  },
  {
   "cell_type": "code",
   "execution_count": null,
   "metadata": {},
   "outputs": [],
   "source": [
    "# Use an AR model\n",
    "\n",
    "\n",
    "sf = StatsForecast(models=[ma_model, ar_model], freq='W')\n",
    "cv_df = sf.cross_validation(h=horizon, \n",
    "                            df=df, \n",
    "                            n_windows=10, \n",
    "                            step_size=horizon, \n",
    "                            level=[80], \n",
    "                            time_col='Date', \n",
    "                            id_col='Store', \n",
    "                            target_col='Weekly_Sales')\n",
    "\n",
    "cv_df.head()"
   ]
  },
  {
   "cell_type": "code",
   "execution_count": null,
   "metadata": {},
   "outputs": [],
   "source": [
    "fig, axes = plt.subplots(nrows=2, ncols=2, figsize=(12,9))\n",
    "\n",
    "for i, ax in enumerate(axes.flatten()):\n",
    "    plot_df = df[df['Store'] == i+1]\n",
    "    cv_plot_df = cv_df[cv_df['Store'] == i+1]\n",
    "\n",
    "    ax.plot(plot_df['Date'], plot_df['Weekly_Sales'])\n",
    "    ax.plot(cv_plot_df['Date'], cv_plot_df['AR'], label='AR(p)')\n",
    "    ax.fill_between(cv_plot_df['Date'], cv_plot_df['AR-lo-80'], cv_plot_df['AR-hi-80'], color='green', alpha=0.2)\n",
    "    ax.legend()\n",
    "    ax.set_title(f'Store {i+1}')\n",
    "    ax.set_xlabel('Date')\n",
    "    ax.set_ylabel('Weekly Sales ($)')\n",
    "\n",
    "fig.autofmt_xdate()\n",
    "plt.tight_layout()"
   ]
  },
  {
   "cell_type": "code",
   "execution_count": null,
   "metadata": {},
   "outputs": [],
   "source": [
    "eval_df = cv_df.drop(['Date', 'cutoff'], axis=1)\n",
    "evaluation = evaluate(df=eval_df, metrics=[mae, smape], target_col='Weekly_Sales', id_col='Store')\n",
    "avg_evaluation = evaluation.drop(['Store'], axis=1).groupby('metric').mean().reset_index()\n",
    "avg_evaluation"
   ]
  },
  {
   "cell_type": "markdown",
   "metadata": {},
   "source": [
    "# Forecasting with ARIMA (AutoARIMA)"
   ]
  },
  {
   "cell_type": "code",
   "execution_count": null,
   "metadata": {},
   "outputs": [],
   "source": [
    "# Use AutoARIMA\n",
    "\n",
    "\n",
    "\n",
    "sf = StatsForecast(models=[ma_model, ar_model, auto_arima_model], freq='W')\n",
    "cv_df = sf.cross_validation(h=horizon, \n",
    "                            df=df, \n",
    "                            n_windows=10, \n",
    "                            step_size=horizon, \n",
    "                            level=[80], \n",
    "                            time_col='Date', \n",
    "                            id_col='Store', \n",
    "                            target_col='Weekly_Sales')\n",
    "\n",
    "cv_df.head()"
   ]
  },
  {
   "cell_type": "code",
   "execution_count": null,
   "metadata": {},
   "outputs": [],
   "source": [
    "fig, axes = plt.subplots(nrows=2, ncols=2, figsize=(12,9))\n",
    "\n",
    "for i, ax in enumerate(axes.flatten()):\n",
    "    plot_df = df[df['Store'] == i+1]\n",
    "    cv_plot_df = cv_df[cv_df['Store'] == i+1]\n",
    "\n",
    "    ax.plot(plot_df['Date'], plot_df['Weekly_Sales'])\n",
    "    ax.plot(cv_plot_df['Date'], cv_plot_df['AutoARIMA'], label='ARIMA(p,d,q)')\n",
    "    ax.fill_between(cv_plot_df['Date'], cv_plot_df['AutoARIMA-lo-80'], cv_plot_df['AutoARIMA-hi-80'], color='green', alpha=0.2)\n",
    "    ax.legend()\n",
    "    ax.set_title(f'Store {i+1}')\n",
    "    ax.set_xlabel('Date')\n",
    "    ax.set_ylabel('Weekly Sales ($)')\n",
    "\n",
    "fig.autofmt_xdate()\n",
    "plt.tight_layout()"
   ]
  },
  {
   "cell_type": "code",
   "execution_count": null,
   "metadata": {},
   "outputs": [],
   "source": [
    "eval_df = cv_df.drop(['Date', 'cutoff'], axis=1)\n",
    "evaluation = evaluate(df=eval_df, metrics=[mae, smape], target_col='Weekly_Sales', id_col='Store')\n",
    "avg_evaluation = evaluation.drop(['Store'], axis=1).groupby('metric').mean().reset_index()\n",
    "avg_evaluation"
   ]
  },
  {
   "cell_type": "code",
   "execution_count": null,
   "metadata": {},
   "outputs": [],
   "source": []
  }
 ],
 "metadata": {
  "kernelspec": {
   "display_name": "bitbang-env",
   "language": "python",
   "name": "python3"
  },
  "language_info": {
   "codemirror_mode": {
    "name": "ipython",
    "version": 3
   },
   "file_extension": ".py",
   "mimetype": "text/x-python",
   "name": "python",
   "nbconvert_exporter": "python",
   "pygments_lexer": "ipython3",
   "version": "3.10.15"
  }
 },
 "nbformat": 4,
 "nbformat_minor": 2
}
