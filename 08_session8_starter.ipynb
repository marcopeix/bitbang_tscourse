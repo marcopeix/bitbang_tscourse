{
 "cells": [
  {
   "cell_type": "code",
   "execution_count": null,
   "metadata": {},
   "outputs": [],
   "source": [
    "import os\n",
    "import warnings\n",
    "import numpy as np\n",
    "import pandas as pd\n",
    "import matplotlib.pyplot as plt\n",
    "\n",
    "from utilsforecast.losses import *\n",
    "from utilsforecast.evaluation import evaluate\n",
    "\n",
    "from statsforecast import StatsForecast\n",
    "from statsforecast.models import CrostonOptimized, ADIDA, TSB, HoltWinters\n",
    "from statsforecast.core import StatsForecast\n",
    "\n",
    "from hierarchicalforecast.utils import aggregate\n",
    "from hierarchicalforecast.methods import BottomUp, MinTrace\n",
    "from hierarchicalforecast.core import HierarchicalReconciliation\n",
    "from hierarchicalforecast.evaluation import HierarchicalEvaluation\n",
    "\n",
    "\n",
    "warnings.filterwarnings(\"ignore\")\n",
    "os.environ[\"NIXTLA_ID_AS_COL\"] = \"true\"\n",
    "pd.set_option('display.precision', 3)"
   ]
  },
  {
   "cell_type": "code",
   "execution_count": null,
   "metadata": {},
   "outputs": [],
   "source": [
    "url = \"https://raw.githubusercontent.com/marcopeix/AppliedTimeSeriesForecastingInPython/refs/heads/master/data/intermittent_time_series.csv\"\n",
    "df = pd.read_csv(url, parse_dates=['ds'])\n",
    "df.head()"
   ]
  },
  {
   "cell_type": "code",
   "execution_count": null,
   "metadata": {},
   "outputs": [],
   "source": [
    "fig, ax = plt.subplots(figsize=(10,8))\n",
    "\n",
    "ax.bar(df.index, df['y'], color='lightgray')\n",
    "ax.set_ylabel('Value')\n",
    "ax.set_xlabel('Time steps')\n",
    "ax.legend(loc='best')\n",
    "plt.xlim(40, 100)\n",
    "\n",
    "plt.tight_layout()"
   ]
  },
  {
   "cell_type": "markdown",
   "metadata": {},
   "source": [
    "## Croston"
   ]
  },
  {
   "cell_type": "code",
   "execution_count": null,
   "metadata": {},
   "outputs": [],
   "source": [
    "# Croston model\n",
    "\n",
    "sf = StatsForecast(\n",
    "    df=df,\n",
    "    models=models,\n",
    "    freq='H',\n",
    "    n_jobs=-1\n",
    ")\n",
    "\n",
    "cv_df = sf.cross_validation(\n",
    "    df=df,\n",
    "    h=1,\n",
    "    step_size=1,\n",
    "    n_windows=50\n",
    ")\n",
    "\n",
    "cv_df.index = np.arange(50, 100, 1)"
   ]
  },
  {
   "cell_type": "code",
   "execution_count": null,
   "metadata": {},
   "outputs": [],
   "source": [
    "fig, ax = plt.subplots(figsize=(10,8))\n",
    "\n",
    "ax.bar(df.index, df['y'], color='lightgray')\n",
    "ax.plot(cv_df.index, cv_df['CrostonOptimized'], ls='--', label='Croston (optimized)')\n",
    "ax.set_ylabel('Value')\n",
    "ax.set_xlabel('Time steps')\n",
    "ax.legend(loc='best')\n",
    "plt.xlim(40, 100)\n",
    "\n",
    "plt.tight_layout()"
   ]
  },
  {
   "cell_type": "markdown",
   "metadata": {},
   "source": [
    "## ADIDA"
   ]
  },
  {
   "cell_type": "code",
   "execution_count": null,
   "metadata": {},
   "outputs": [],
   "source": [
    "# ADIDA\n",
    "\n",
    "sf = StatsForecast(\n",
    "    df=df,\n",
    "    models=models,\n",
    "    freq='H',\n",
    "    n_jobs=-1\n",
    ")\n",
    "\n",
    "cv_df = sf.cross_validation(\n",
    "    df=df,\n",
    "    h=1,\n",
    "    step_size=1,\n",
    "    n_windows=50\n",
    ")\n",
    "\n",
    "cv_df.index = np.arange(50, 100, 1)"
   ]
  },
  {
   "cell_type": "code",
   "execution_count": null,
   "metadata": {},
   "outputs": [],
   "source": [
    "fig, ax = plt.subplots(figsize=(10,8))\n",
    "\n",
    "ax.bar(df.index, df['y'], color='lightgray')\n",
    "ax.plot(cv_df.index, cv_df['CrostonOptimized'], ls='--', label='Croston')\n",
    "ax.plot(cv_df.index, cv_df['ADIDA'], ls=':', label='ADIDA')\n",
    "ax.set_ylabel('Value')\n",
    "ax.set_xlabel('Time steps')\n",
    "ax.legend(loc='best')\n",
    "plt.xlim(40, 100)\n",
    "\n",
    "plt.tight_layout()\n"
   ]
  },
  {
   "cell_type": "markdown",
   "metadata": {},
   "source": [
    "## TSB"
   ]
  },
  {
   "cell_type": "code",
   "execution_count": null,
   "metadata": {},
   "outputs": [],
   "source": [
    "# TSB\n",
    "\n",
    "sf = StatsForecast(\n",
    "    df=df,\n",
    "    models=models,\n",
    "    freq='H',\n",
    "    n_jobs=-1\n",
    ")\n",
    "\n",
    "cv_df = sf.cross_validation(\n",
    "    df=df,\n",
    "    h=1,\n",
    "    step_size=1,\n",
    "    n_windows=50\n",
    ")\n",
    "\n",
    "cv_df.index = np.arange(50, 100, 1)"
   ]
  },
  {
   "cell_type": "code",
   "execution_count": null,
   "metadata": {},
   "outputs": [],
   "source": [
    "fig, ax = plt.subplots(figsize=(10,8))\n",
    "\n",
    "ax.bar(df.index, df['y'], color='lightgray')\n",
    "ax.plot(cv_df.index, cv_df['TSB'], ls='--', label='TSB')\n",
    "ax.plot(cv_df.index, cv_df['CrostonOptimized'], ls=':', label='Croston')\n",
    "ax.plot(cv_df.index, cv_df['ADIDA'], ls='-.', label='ADIDA')\n",
    "\n",
    "ax.set_ylabel('Value')\n",
    "ax.set_xlabel('Time steps')\n",
    "ax.legend(loc='best')\n",
    "plt.xlim(40, 100)\n",
    "\n",
    "plt.tight_layout()"
   ]
  },
  {
   "cell_type": "markdown",
   "metadata": {},
   "source": [
    "## Error metrics (CFE, CFE_min, CFE_max, PIS, NOS)"
   ]
  },
  {
   "cell_type": "code",
   "execution_count": null,
   "metadata": {},
   "outputs": [],
   "source": []
  },
  {
   "cell_type": "code",
   "execution_count": null,
   "metadata": {},
   "outputs": [],
   "source": [
    "croston_errors = errors(cv_df['y'], cv_df['CrostonOptimized'])\n",
    "adida_errors = errors(cv_df['y'], cv_df['ADIDA'])\n",
    "tsb_errors = errors(cv_df['y'], cv_df['TSB'])"
   ]
  },
  {
   "cell_type": "code",
   "execution_count": null,
   "metadata": {},
   "outputs": [],
   "source": [
    "fig, ax = plt.subplots(figsize=(9,6))\n",
    "\n",
    "x = ['Croston', 'ADIDA', 'TSB']\n",
    "y = [croston_errors['CFE'], adida_errors['CFE'], tsb_errors['CFE']]\n",
    "\n",
    "errors = [\n",
    "    [abs(croston_errors['CFE_min']), abs(adida_errors['CFE_min']), abs(tsb_errors['CFE_min'])],\n",
    "    [croston_errors['CFE_max'], adida_errors['CFE_max'], tsb_errors['CFE_max']]\n",
    "]\n",
    "\n",
    "ax.errorbar(x, y, yerr=errors, fmt='o')\n",
    "ax.set_xlabel('Models')\n",
    "ax.set_ylabel('CFE')\n",
    "\n",
    "for i, v in enumerate(y):\n",
    "    plt.text(x=i+0.03, y=v, s=str(round(v,2)), va='center')\n",
    "\n",
    "plt.tight_layout()"
   ]
  },
  {
   "cell_type": "markdown",
   "metadata": {},
   "source": [
    "## Hierarchical forecasting"
   ]
  },
  {
   "cell_type": "code",
   "execution_count": null,
   "metadata": {},
   "outputs": [],
   "source": [
    "Y_df = pd.read_csv('https://raw.githubusercontent.com/Nixtla/transfer-learning-time-series/main/datasets/tourism.csv')\n",
    "Y_df = Y_df.rename({'Trips': 'y', 'Quarter': 'ds'}, axis=1)\n",
    "Y_df.insert(0, 'Country', 'Australia')\n",
    "Y_df = Y_df[['Country', 'Region', 'State', 'Purpose', 'ds', 'y']]\n",
    "Y_df['ds'] = Y_df['ds'].str.replace(r'(\\d+) (Q\\d)', r'\\1-\\2', regex=True)\n",
    "Y_df['ds'] = pd.to_datetime(Y_df['ds'])\n",
    "Y_df.head()"
   ]
  },
  {
   "cell_type": "code",
   "execution_count": null,
   "metadata": {},
   "outputs": [],
   "source": [
    "spec = [\n",
    "    ['Country'],\n",
    "    ['Country', 'State'], \n",
    "    ['Country', 'Purpose'], \n",
    "    ['Country', 'State', 'Region'], \n",
    "    ['Country', 'State', 'Purpose'], \n",
    "    ['Country', 'State', 'Region', 'Purpose']\n",
    "]"
   ]
  },
  {
   "cell_type": "code",
   "execution_count": null,
   "metadata": {},
   "outputs": [],
   "source": [
    "Y_df, S_df, tags = aggregate(Y_df, spec)\n",
    "Y_df = Y_df.reset_index()"
   ]
  },
  {
   "cell_type": "code",
   "execution_count": null,
   "metadata": {},
   "outputs": [],
   "source": [
    "Y_df.head()"
   ]
  },
  {
   "cell_type": "code",
   "execution_count": null,
   "metadata": {},
   "outputs": [],
   "source": [
    "S_df.iloc[:5, :5]"
   ]
  },
  {
   "cell_type": "code",
   "execution_count": null,
   "metadata": {},
   "outputs": [],
   "source": [
    "Y_df.head()"
   ]
  },
  {
   "cell_type": "code",
   "execution_count": null,
   "metadata": {},
   "outputs": [],
   "source": [
    "tags['Country/State']"
   ]
  },
  {
   "cell_type": "code",
   "execution_count": null,
   "metadata": {},
   "outputs": [],
   "source": [
    "states = tags['Country/State']\n",
    "\n",
    "fig, axes = plt.subplots(nrows=4, ncols=2, figsize=(10,8))\n",
    "axes = axes.flatten()\n",
    "\n",
    "for i, (ax, state) in enumerate(zip(axes, states)):\n",
    "    plot_df = Y_df.query(\"unique_id == @state\")\n",
    "\n",
    "    ax.plot(plot_df['ds'], plot_df['y'])\n",
    "    ax.set_xlabel('Date')\n",
    "    ax.set_ylabel('Visits')\n",
    "    ax.set_title(state)\n",
    "\n",
    "fig.autofmt_xdate()\n",
    "plt.tight_layout()"
   ]
  },
  {
   "cell_type": "code",
   "execution_count": null,
   "metadata": {},
   "outputs": [],
   "source": [
    "Y_test_df = Y_df.groupby('unique_id').tail(8)\n",
    "Y_train_df = Y_df.drop(Y_test_df.index)"
   ]
  },
  {
   "cell_type": "code",
   "execution_count": null,
   "metadata": {},
   "outputs": [],
   "source": [
    "Y_test_df = Y_test_df.set_index('unique_id')\n",
    "Y_train_df = Y_train_df.set_index('unique_id')"
   ]
  },
  {
   "cell_type": "code",
   "execution_count": null,
   "metadata": {},
   "outputs": [],
   "source": [
    "# Holt-Winters\n",
    "\n",
    "\n",
    "Y_hat_df = fcst.forecast(h=8, fitted=True)\n",
    "Y_fitted_df = fcst.forecast_fitted_values()"
   ]
  },
  {
   "cell_type": "code",
   "execution_count": null,
   "metadata": {},
   "outputs": [],
   "source": [
    "states = tags['Country/State']\n",
    "\n",
    "fig, axes = plt.subplots(nrows=4, ncols=2, figsize=(10,8))\n",
    "axes = axes.flatten()\n",
    "\n",
    "for i, (ax, state) in enumerate(zip(axes, states)):\n",
    "    pred_plot_df = Y_hat_df.query(\"unique_id == @state\")\n",
    "    actual_plot_df = Y_test_df.query(\"unique_id == @state\")\n",
    "\n",
    "    ax.plot(actual_plot_df['ds'], actual_plot_df['y'])\n",
    "    ax.plot(pred_plot_df['ds'], pred_plot_df['HoltWinters'], ls='--', label='Holt-Winters')\n",
    "\n",
    "    ax.set_xlabel('Date')\n",
    "    ax.set_ylabel('Visits')\n",
    "    ax.set_title(state)\n",
    "\n",
    "fig.autofmt_xdate()\n",
    "plt.tight_layout()"
   ]
  },
  {
   "cell_type": "code",
   "execution_count": null,
   "metadata": {},
   "outputs": [],
   "source": [
    "# Reconcile\n"
   ]
  },
  {
   "cell_type": "code",
   "execution_count": null,
   "metadata": {},
   "outputs": [],
   "source": [
    "Y_rec_df = Y_rec_df.drop(['index', 'index/BottomUp', 'index/MinTrace_method-ols'], axis=1)\n",
    "Y_rec_df.head()"
   ]
  },
  {
   "cell_type": "code",
   "execution_count": null,
   "metadata": {},
   "outputs": [],
   "source": [
    "def rmse(y, y_hat):\n",
    "    return np.mean(np.sqrt(np.mean((y-y_hat)**2, axis=1)))\n",
    "\n",
    "def mase(y, y_hat, y_insample, seasonality=4):\n",
    "    errors = np.mean(np.abs(y - y_hat), axis=1)\n",
    "    scale = np.mean(np.abs(y_insample[:, seasonality:] - y_insample[:, :-seasonality]), axis=1)\n",
    "    return np.mean(errors / scale)\n",
    "\n",
    "# Evaluation tags\n",
    "eval_tags = {}\n",
    "eval_tags['Country'] = tags['Country']\n",
    "eval_tags['Purpose'] = tags['Country/Purpose']\n",
    "eval_tags['State'] = tags['Country/State']\n",
    "eval_tags['Regions'] = tags['Country/State/Region']\n",
    "eval_tags['Bottom'] = tags['Country/State/Region/Purpose']\n",
    "eval_tags['All'] = np.concatenate(list(tags.values()))\n",
    "\n",
    "# Evaluate\n",
    "\n",
    "evaluation = evaluation.drop('Overall')\n",
    "evaluation.columns = ['Base', 'BottomUp', 'MinTrace(ols)']\n",
    "evaluation = evaluation.applymap('{:.2f}'.format)"
   ]
  },
  {
   "cell_type": "code",
   "execution_count": null,
   "metadata": {},
   "outputs": [],
   "source": [
    "evaluation.query('metric == \"rmse\"')"
   ]
  },
  {
   "cell_type": "code",
   "execution_count": null,
   "metadata": {},
   "outputs": [],
   "source": []
  }
 ],
 "metadata": {
  "kernelspec": {
   "display_name": "bitbang-env",
   "language": "python",
   "name": "python3"
  },
  "language_info": {
   "codemirror_mode": {
    "name": "ipython",
    "version": 3
   },
   "file_extension": ".py",
   "mimetype": "text/x-python",
   "name": "python",
   "nbconvert_exporter": "python",
   "pygments_lexer": "ipython3",
   "version": "3.10.15"
  }
 },
 "nbformat": 4,
 "nbformat_minor": 2
}
