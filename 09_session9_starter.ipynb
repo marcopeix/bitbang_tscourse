{
 "cells": [
  {
   "cell_type": "code",
   "execution_count": null,
   "metadata": {},
   "outputs": [],
   "source": [
    "import os\n",
    "import warnings\n",
    "import numpy as np\n",
    "import pandas as pd\n",
    "import matplotlib.pyplot as plt\n",
    "\n",
    "from utilsforecast.losses import *\n",
    "from utilsforecast.evaluation import evaluate\n",
    "\n",
    "from dotenv import load_dotenv\n",
    "from nixtla import NixtlaClient\n",
    "\n",
    "warnings.filterwarnings(\"ignore\")\n",
    "os.environ[\"NIXTLA_ID_AS_COL\"] = \"true\"\n",
    "pd.set_option('display.precision', 3)"
   ]
  },
  {
   "cell_type": "code",
   "execution_count": null,
   "metadata": {},
   "outputs": [],
   "source": [
    "plt.rcParams['figure.figsize'] = (9,6)"
   ]
  },
  {
   "cell_type": "code",
   "execution_count": null,
   "metadata": {},
   "outputs": [],
   "source": [
    "url = \"https://raw.githubusercontent.com/marcopeix/TimeSeriesForecastingUsingFoundationModels/refs/heads/main/data/walmart_sales_small.csv\"\n",
    "\n",
    "df = pd.read_csv(url, parse_dates=[\"Date\"])\n",
    "df.head()"
   ]
  },
  {
   "cell_type": "code",
   "execution_count": null,
   "metadata": {},
   "outputs": [],
   "source": [
    "fig, axes = plt.subplots(nrows=2, ncols=2, figsize=(12,9))\n",
    "\n",
    "for i, ax in enumerate(axes.flatten()):\n",
    "    plot_df = df[df['Store'] == i+1]\n",
    "\n",
    "    ax.plot(plot_df['Date'], plot_df['Weekly_Sales'])\n",
    "    ax.set_title(f'Store {i+1}')\n",
    "    ax.set_xlabel('Date')\n",
    "    ax.set_ylabel('Weekly Sales ($)')\n",
    "\n",
    "fig.autofmt_xdate()\n",
    "plt.tight_layout()"
   ]
  },
  {
   "cell_type": "markdown",
   "metadata": {},
   "source": [
    "# TimeGPT"
   ]
  },
  {
   "cell_type": "code",
   "execution_count": null,
   "metadata": {},
   "outputs": [],
   "source": [
    "load_dotenv()\n",
    "base_url = os.getenv(\"BASE_URL\")\n",
    "api_key = os.getenv(\"NIXTLA_API_KEY\")"
   ]
  },
  {
   "cell_type": "code",
   "execution_count": null,
   "metadata": {},
   "outputs": [],
   "source": [
    "# Initialize Nixtla client"
   ]
  },
  {
   "cell_type": "markdown",
   "metadata": {},
   "source": [
    "## Zero-shot forecasting"
   ]
  },
  {
   "cell_type": "code",
   "execution_count": null,
   "metadata": {},
   "outputs": [],
   "source": [
    "# Zero-shot forecasting\n",
    "\n",
    "preds.head()"
   ]
  },
  {
   "cell_type": "code",
   "execution_count": null,
   "metadata": {},
   "outputs": [],
   "source": [
    "fig, axes = plt.subplots(nrows=2, ncols=2, figsize=(12,9))\n",
    "\n",
    "for i, ax in enumerate(axes.flatten()):\n",
    "    plot_df = df[df['Store'] == i+1]\n",
    "    plot_preds = preds[preds['Store'] == i+1]\n",
    "\n",
    "    ax.plot(plot_df['Date'], plot_df['Weekly_Sales'])\n",
    "    ax.plot(plot_preds['Date'], plot_preds['TimeGPT'], color='green', ls='--', label='TimeGPT')\n",
    "    ax.fill_between(plot_preds['Date'], plot_preds['TimeGPT-hi-80'], plot_preds['TimeGPT-lo-80'], color='green', alpha=0.2)\n",
    "    ax.set_title(f'Store {i+1}')\n",
    "    ax.set_xlabel('Date')\n",
    "    ax.set_ylabel('Weekly Sales ($)')\n",
    "    ax.legend()\n",
    "\n",
    "fig.autofmt_xdate()\n",
    "plt.tight_layout()"
   ]
  },
  {
   "cell_type": "markdown",
   "metadata": {},
   "source": [
    "## Cross-validation"
   ]
  },
  {
   "cell_type": "code",
   "execution_count": null,
   "metadata": {},
   "outputs": [],
   "source": [
    "# Cross-validation\n",
    "\n",
    "cv_df.head()"
   ]
  },
  {
   "cell_type": "code",
   "execution_count": null,
   "metadata": {},
   "outputs": [],
   "source": [
    "fig, axes = plt.subplots(nrows=2, ncols=2, figsize=(12,9))\n",
    "\n",
    "for i, ax in enumerate(axes.flatten()):\n",
    "    plot_df = df[df['Store'] == i+1]\n",
    "    plot_cv = cv_df[cv_df['Store'] == i+1]\n",
    "\n",
    "    ax.plot(plot_df['Date'], plot_df['Weekly_Sales'])\n",
    "    ax.plot(plot_cv['Date'], plot_cv['TimeGPT'], color='green', ls='--', label='TimeGPT')\n",
    "    ax.fill_between(plot_cv['Date'], plot_cv['TimeGPT-hi-80'], plot_cv['TimeGPT-lo-80'], color='green', alpha=0.2)\n",
    "    ax.set_title(f'Store {i+1}')\n",
    "    ax.set_xlabel('Date')\n",
    "    ax.set_ylabel('Weekly Sales ($)')\n",
    "    ax.legend()\n",
    "\n",
    "fig.autofmt_xdate()\n",
    "plt.tight_layout()"
   ]
  },
  {
   "cell_type": "markdown",
   "metadata": {},
   "source": [
    "## Fine-tuning"
   ]
  },
  {
   "cell_type": "code",
   "execution_count": null,
   "metadata": {},
   "outputs": [],
   "source": [
    "store1_df = df[df['Store'] == 1]\n",
    "\n",
    "test_size = 32\n",
    "\n",
    "train = store1_df[:-test_size]\n",
    "test = store1_df[-test_size:]\n",
    "\n",
    "print(len(train), len(test))"
   ]
  },
  {
   "cell_type": "code",
   "execution_count": null,
   "metadata": {},
   "outputs": [],
   "source": [
    "baseline_preds = nixtla_client.forecast(\n",
    "    df=train,\n",
    "    h=test_size,\n",
    "    id_col='Store',\n",
    "    time_col='Date',\n",
    "    target_col='Weekly_Sales'\n",
    ")"
   ]
  },
  {
   "cell_type": "code",
   "execution_count": null,
   "metadata": {},
   "outputs": [],
   "source": [
    "longhorizon_preds = nixtla_client.forecast(\n",
    "    df=train,\n",
    "    h=test_size,\n",
    "    id_col='Store',\n",
    "    time_col='Date',\n",
    "    target_col='Weekly_Sales',\n",
    "    # Specify model\n",
    ")"
   ]
  },
  {
   "cell_type": "code",
   "execution_count": null,
   "metadata": {},
   "outputs": [],
   "source": [
    "test = test.copy()\n",
    "test = test[['Store', 'Date', 'Weekly_Sales']]\n",
    "test.loc[:, 'TimeGPT'] = baseline_preds['TimeGPT'].values\n",
    "test.loc[:, 'TimeGPT-long'] = longhorizon_preds['TimeGPT'].values\n",
    "test.head()"
   ]
  },
  {
   "cell_type": "code",
   "execution_count": null,
   "metadata": {},
   "outputs": [],
   "source": [
    "evaluation = evaluate(\n",
    "    df=test,\n",
    "    metrics=[mae, smape],\n",
    "    id_col='Store',\n",
    "    time_col='Date',\n",
    "    target_col='Weekly_Sales'\n",
    ")\n",
    "evaluation"
   ]
  },
  {
   "cell_type": "code",
   "execution_count": null,
   "metadata": {},
   "outputs": [],
   "source": [
    "longhorizon_finetune_preds = nixtla_client.forecast(\n",
    "    df=train,\n",
    "    h=test_size,\n",
    "    id_col='Store',\n",
    "    time_col='Date',\n",
    "    target_col='Weekly_Sales',\n",
    "    model='timegpt-1-long-horizon',\n",
    "    # Finetune steps and loss\n",
    ")\n",
    "test.loc[:, 'TimeGPT-long-finetuned'] = longhorizon_finetune_preds['TimeGPT'].values"
   ]
  },
  {
   "cell_type": "code",
   "execution_count": null,
   "metadata": {},
   "outputs": [],
   "source": [
    "evaluation = evaluate(\n",
    "    df=test,\n",
    "    metrics=[mae, smape],\n",
    "    id_col='Store',\n",
    "    time_col='Date',\n",
    "    target_col='Weekly_Sales'\n",
    ")\n",
    "evaluation"
   ]
  },
  {
   "cell_type": "code",
   "execution_count": null,
   "metadata": {},
   "outputs": [],
   "source": [
    "longhorizon_finetune_preds2 = nixtla_client.forecast(\n",
    "    df=train,\n",
    "    h=test_size,\n",
    "    id_col='Store',\n",
    "    time_col='Date',\n",
    "    target_col='Weekly_Sales',\n",
    "    model='timegpt-1-long-horizon',\n",
    "    finetune_steps=10,\n",
    "    finetune_loss='mae',\n",
    "    # Finetune depth\n",
    ")\n",
    "test.loc[:, 'TimeGPT-long-finetuned2'] = longhorizon_finetune_preds2['TimeGPT'].values"
   ]
  },
  {
   "cell_type": "code",
   "execution_count": null,
   "metadata": {},
   "outputs": [],
   "source": [
    "evaluation = evaluate(\n",
    "    df=test,\n",
    "    metrics=[mae, smape],\n",
    "    id_col='Store',\n",
    "    time_col='Date',\n",
    "    target_col='Weekly_Sales'\n",
    ")\n",
    "evaluation"
   ]
  },
  {
   "cell_type": "code",
   "execution_count": null,
   "metadata": {},
   "outputs": [],
   "source": [
    "fig, ax = plt.subplots()\n",
    "\n",
    "ax.plot(store1_df['Date'], store1_df['Weekly_Sales'])\n",
    "ax.plot(test['Date'], test['Weekly_Sales'])\n",
    "ax.plot(test['Date'], test['TimeGPT-long-finetuned2'], color='green', ls='--', label='TimeGPT')\n",
    "ax.set_xlabel('Time')\n",
    "ax.set_ylabel('Sales')\n",
    "ax.legend()\n",
    "\n",
    "fig.autofmt_xdate()\n",
    "plt.tight_layout()"
   ]
  },
  {
   "cell_type": "markdown",
   "metadata": {},
   "source": [
    "# Moirai"
   ]
  },
  {
   "cell_type": "code",
   "execution_count": null,
   "metadata": {},
   "outputs": [],
   "source": [
    "import torch\n",
    "from gluonts.dataset.pandas import PandasDataset\n",
    "\n",
    "from uni2ts.model.moirai import MoiraiForecast, MoiraiModule"
   ]
  },
  {
   "cell_type": "code",
   "execution_count": null,
   "metadata": {},
   "outputs": [],
   "source": [
    "df = df[['Store', 'Date', 'Weekly_Sales']]\n",
    "df = df.set_index('Date')\n",
    "df.head()"
   ]
  },
  {
   "cell_type": "code",
   "execution_count": null,
   "metadata": {},
   "outputs": [],
   "source": [
    "ds = PandasDataset.from_long_dataframe(df, target='Weekly_Sales', item_id='Store')"
   ]
  },
  {
   "cell_type": "code",
   "execution_count": null,
   "metadata": {},
   "outputs": [],
   "source": [
    "model = MoiraiForecast(\n",
    "    module=MoiraiModule.from_pretrained(\"Salesforce/moirai-1.0-R-small\"),\n",
    "    prediction_length=8,\n",
    "    context_length=len(df.query('Store == 1')),\n",
    "    patch_size='auto',\n",
    "    num_samples=100,\n",
    "    target_dim=1,\n",
    "    feat_dynamic_real_dim=ds.num_feat_dynamic_real,\n",
    "    past_feat_dynamic_real_dim=ds.num_past_feat_dynamic_real\n",
    ")"
   ]
  },
  {
   "cell_type": "code",
   "execution_count": null,
   "metadata": {},
   "outputs": [],
   "source": [
    "# Make predictions\n"
   ]
  },
  {
   "cell_type": "code",
   "execution_count": null,
   "metadata": {},
   "outputs": [],
   "source": [
    "def get_median_and_ci(\n",
    "    data, \n",
    "    start_date,\n",
    "    horizon,\n",
    "    freq,\n",
    "    id,\n",
    "    confidence=0.95\n",
    "):    \n",
    "    # Calculate the median for each timestep\n",
    "    medians = np.median(data, axis=0)\n",
    "    \n",
    "    # Calculate the lower and upper percentile for the given confidence interval\n",
    "    lower_percentile = (1 - confidence) / 2 * 100\n",
    "    upper_percentile = (1 + confidence) / 2 * 100\n",
    "    \n",
    "    # Calculate the lower and upper bounds for each timestep\n",
    "    lower_bounds = np.percentile(data, lower_percentile, axis=0)\n",
    "    upper_bounds = np.percentile(data, upper_percentile, axis=0)\n",
    "\n",
    "    pred_dates = pd.date_range(start=start_date, periods=horizon, freq=freq)\n",
    "    formatted_dates = pred_dates.strftime('%m-%d-%Y').tolist()\n",
    "    \n",
    "    # Create a DataFrame with the results\n",
    "    df = pd.DataFrame({\n",
    "        'Date': formatted_dates,\n",
    "        'Store': id,\n",
    "        'Moirai': medians,\n",
    "        f'Moirai-lo-{int(confidence*100)}': lower_bounds,\n",
    "        f'Moirai-hi-{int(confidence*100)}': upper_bounds\n",
    "    })\n",
    "    \n",
    "    return df"
   ]
  },
  {
   "cell_type": "code",
   "execution_count": null,
   "metadata": {},
   "outputs": [],
   "source": [
    "preds = [\n",
    "    get_median_and_ci(\n",
    "        data=forecasts[i].samples,\n",
    "        start_date='11-02-2012',\n",
    "        horizon=8,\n",
    "        freq='W-FRI',\n",
    "        id=i+1,\n",
    "        confidence=0.80\n",
    "    )\n",
    "    for i in range(4)\n",
    "]\n",
    "\n",
    "preds_df = pd.concat(preds, axis=0, ignore_index=True)\n",
    "preds_df['Date'] = pd.to_datetime(preds_df['Date'])\n",
    "\n",
    "preds_df.head()"
   ]
  },
  {
   "cell_type": "code",
   "execution_count": null,
   "metadata": {},
   "outputs": [],
   "source": [
    "fig, axes = plt.subplots(nrows=2, ncols=2, figsize=(12,9))\n",
    "\n",
    "plot_df = df.reset_index(drop=False).copy()\n",
    "plot_preds_df = preds_df.copy()\n",
    "\n",
    "for i, ax in enumerate(axes.flatten()):\n",
    "    df = plot_df[plot_df['Store'] == i+1].iloc[-100:]\n",
    "    preds_df = plot_preds_df[plot_preds_df['Store'] == i+1]\n",
    "\n",
    "    ax.plot(df['Date'], df['Weekly_Sales'])\n",
    "    ax.plot(preds_df['Date'], preds_df['Moirai'], 'g--', label='Moirai')\n",
    "    ax.fill_between(preds_df['Date'], preds_df['Moirai-lo-80'], preds_df['Moirai-hi-80'], alpha=0.1, color='green')\n",
    "    ax.legend()\n",
    "    ax.set_title(f'Store {i+1}')\n",
    "    ax.set_xlabel('Date')\n",
    "    ax.set_ylabel('Weekly Sales ($)')\n",
    "\n",
    "fig.autofmt_xdate()\n",
    "plt.tight_layout()"
   ]
  },
  {
   "cell_type": "markdown",
   "metadata": {},
   "source": [
    "## Evaluate Moirai"
   ]
  },
  {
   "cell_type": "code",
   "execution_count": null,
   "metadata": {},
   "outputs": [],
   "source": [
    "df = pd.read_csv(url, parse_dates=[\"Date\"])\n",
    "df = df[['Store', 'Date', 'Weekly_Sales']]\n",
    "df = df[df['Store'] == 1]\n",
    "df_train = df[:-32]\n",
    "df_train = df.set_index('Date')\n",
    "ds = PandasDataset.from_long_dataframe(df_train, target='Weekly_Sales', item_id='Store')"
   ]
  },
  {
   "cell_type": "code",
   "execution_count": null,
   "metadata": {},
   "outputs": [],
   "source": [
    "model = MoiraiForecast(\n",
    "    module=MoiraiModule.from_pretrained(\"Salesforce/moirai-1.0-R-small\"),\n",
    "    prediction_length=32,\n",
    "    context_length=111,\n",
    "    patch_size='auto',\n",
    "    num_samples=100,\n",
    "    target_dim=1,\n",
    "    feat_dynamic_real_dim=ds.num_feat_dynamic_real,\n",
    "    past_feat_dynamic_real_dim=ds.num_past_feat_dynamic_real\n",
    ")"
   ]
  },
  {
   "cell_type": "code",
   "execution_count": null,
   "metadata": {},
   "outputs": [],
   "source": [
    "predictor = model.create_predictor(batch_size=32)\n",
    "forecasts = predictor.predict(ds)\n",
    "forecasts = list(forecasts)"
   ]
  },
  {
   "cell_type": "code",
   "execution_count": null,
   "metadata": {},
   "outputs": [],
   "source": [
    "moirai_preds = get_median_and_ci(\n",
    "    data=forecasts[0].samples,\n",
    "    start_date='03-23-2012',\n",
    "    horizon=32,\n",
    "    freq='W-FRI',\n",
    "    id=1,\n",
    "    confidence=0.80\n",
    ")\n",
    "moirai_preds.head()"
   ]
  },
  {
   "cell_type": "code",
   "execution_count": null,
   "metadata": {},
   "outputs": [],
   "source": [
    "fig, ax = plt.subplots()\n",
    "\n",
    "ax.plot(store1_df['Date'], store1_df['Weekly_Sales'])\n",
    "ax.plot(test['Date'], test['Weekly_Sales'])\n",
    "ax.plot(test['Date'], moirai_preds['Moirai'], color='green', ls='--', label='Moirai')\n",
    "ax.fill_between(test['Date'], moirai_preds['Moirai-lo-80'], moirai_preds['Moirai-hi-80'], color='green', alpha=0.2)\n",
    "ax.set_xlabel('Time')\n",
    "ax.set_ylabel('Sales')\n",
    "ax.legend()\n",
    "\n",
    "fig.autofmt_xdate()\n",
    "plt.tight_layout()"
   ]
  },
  {
   "cell_type": "code",
   "execution_count": null,
   "metadata": {},
   "outputs": [],
   "source": [
    "test.loc[:, 'Moirai'] = moirai_preds['Moirai'].values\n",
    "evaluation = evaluate(\n",
    "    df=test,\n",
    "    metrics=[mae, smape],\n",
    "    id_col='Store',\n",
    "    time_col='Date',\n",
    "    target_col='Weekly_Sales'\n",
    ")\n",
    "evaluation"
   ]
  },
  {
   "cell_type": "markdown",
   "metadata": {},
   "source": [
    "# Chronos"
   ]
  },
  {
   "cell_type": "code",
   "execution_count": null,
   "metadata": {},
   "outputs": [],
   "source": [
    "from chronos import BaseChronosPipeline"
   ]
  },
  {
   "cell_type": "code",
   "execution_count": null,
   "metadata": {},
   "outputs": [],
   "source": [
    "df = pd.read_csv(url, parse_dates=[\"Date\"])"
   ]
  },
  {
   "cell_type": "code",
   "execution_count": null,
   "metadata": {},
   "outputs": [],
   "source": [
    "# Create context"
   ]
  },
  {
   "cell_type": "code",
   "execution_count": null,
   "metadata": {},
   "outputs": [],
   "source": [
    "pipeline = BaseChronosPipeline.from_pretrained(\n",
    "    \"amazon/chronos-bolt-small\",\n",
    "    device_map=\"cpu\",  # use \"cuda\" for GPU inference\n",
    "    torch_dtype=torch.bfloat16,\n",
    ")"
   ]
  },
  {
   "cell_type": "code",
   "execution_count": null,
   "metadata": {},
   "outputs": [],
   "source": [
    "# Make predictions\n"
   ]
  },
  {
   "cell_type": "code",
   "execution_count": null,
   "metadata": {},
   "outputs": [],
   "source": [
    "start_date = pd.to_datetime('2012-10-26')\n",
    "forecast_dates =  [start_date + pd.DateOffset(weeks=i) for i in range(1, 9)]\n",
    "preds = mean.numpy()\n",
    "quantiles = quantiles.numpy()\n",
    "\n",
    "fig, axes = plt.subplots(ncols=2, nrows=2, figsize=(14,8))\n",
    "\n",
    "for i, ax in enumerate(axes.flatten()):\n",
    "    store_id = i+1\n",
    "    data = df.query(\"Store == @store_id\")\n",
    "\n",
    "    ax.plot(data['Date'], data['Weekly_Sales'])\n",
    "    ax.plot(forecast_dates, preds[i], ls='--', color='green', label='Chronos')\n",
    "    ax.fill_between(forecast_dates, quantiles[i, :, 0], quantiles[i, :, 2], color=\"green\", alpha=0.2)\n",
    "    \n",
    "    ax.set_title(f\"Store {store_id}\")\n",
    "    ax.set_xlabel('Date')\n",
    "    ax.set_ylabel('Sales volume ($)')\n",
    "    ax.legend(loc=1)\n",
    "\n",
    "fig.autofmt_xdate()\n",
    "plt.tight_layout()"
   ]
  },
  {
   "cell_type": "markdown",
   "metadata": {},
   "source": [
    "## Evaluate Chronos"
   ]
  },
  {
   "cell_type": "code",
   "execution_count": null,
   "metadata": {},
   "outputs": [],
   "source": [
    "df = df[df['Store'] == 1]\n",
    "train_df = df[:-32]"
   ]
  },
  {
   "cell_type": "code",
   "execution_count": null,
   "metadata": {},
   "outputs": [],
   "source": [
    "context = torch.tensor(train_df['Weekly_Sales'])"
   ]
  },
  {
   "cell_type": "code",
   "execution_count": null,
   "metadata": {},
   "outputs": [],
   "source": [
    "quantiles, mean = pipeline.predict_quantiles(\n",
    "    context=context,\n",
    "    prediction_length=32,\n",
    "    quantile_levels=[0.1, 0.5, 0.9],\n",
    ")"
   ]
  },
  {
   "cell_type": "code",
   "execution_count": null,
   "metadata": {},
   "outputs": [],
   "source": [
    "quantiles = quantiles.numpy()\n",
    "fig, ax = plt.subplots()\n",
    "\n",
    "ax.plot(store1_df['Date'], store1_df['Weekly_Sales'])\n",
    "ax.plot(test['Date'], test['Weekly_Sales'])\n",
    "ax.plot(test['Date'], mean.numpy()[0], ls='--', color='green', label='Chronos')\n",
    "ax.fill_between(test['Date'], quantiles[0, :, 0], quantiles[0, :, 2], color='green', alpha=0.2)\n",
    "ax.set_xlabel('Time')\n",
    "ax.set_ylabel('Sales')\n",
    "ax.legend()\n",
    "\n",
    "fig.autofmt_xdate()\n",
    "plt.tight_layout()"
   ]
  },
  {
   "cell_type": "code",
   "execution_count": null,
   "metadata": {},
   "outputs": [],
   "source": [
    "test.loc[:, 'Chronos'] = mean.numpy()[0]\n",
    "evaluation = evaluate(\n",
    "    df=test,\n",
    "    metrics=[mae, smape],\n",
    "    id_col='Store',\n",
    "    time_col='Date',\n",
    "    target_col='Weekly_Sales'\n",
    ")\n",
    "evaluation"
   ]
  },
  {
   "cell_type": "code",
   "execution_count": null,
   "metadata": {},
   "outputs": [],
   "source": []
  }
 ],
 "metadata": {
  "kernelspec": {
   "display_name": "bitbang-env",
   "language": "python",
   "name": "python3"
  },
  "language_info": {
   "codemirror_mode": {
    "name": "ipython",
    "version": 3
   },
   "file_extension": ".py",
   "mimetype": "text/x-python",
   "name": "python",
   "nbconvert_exporter": "python",
   "pygments_lexer": "ipython3",
   "version": "3.10.15"
  }
 },
 "nbformat": 4,
 "nbformat_minor": 2
}
